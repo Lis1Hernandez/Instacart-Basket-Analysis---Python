{
 "cells": [
  {
   "cell_type": "markdown",
   "id": "ac2d8765-b6d6-4bf9-abc4-6e94d6a6bbd5",
   "metadata": {},
   "source": [
    "4.10 Part 2\n",
    "\n",
    "This script includes\n",
    "\n",
    "#1. Import Libraries and Data\n",
    "\n",
    "#2. Create Profiling Variables\n",
    "\n",
    "2.1 Dependents Group\n",
    "\n",
    "2.2 Customer Profile - Variable\n",
    "\n",
    "#3. Visualization for Customer Profiles Distributions\n",
    "\n",
    "#4. Basic Statistics on Customer Profile level for Usage Frequency and Expenditure\n",
    "\n",
    "#5. Comparing Customer Profiles with Regions and Departments\n",
    "\n",
    "5.1 Customer profiles by region\n",
    "\n",
    "5.2 Age Groups by Region\n",
    "\n",
    "5.3 Income Groups by Region\n",
    "\n",
    "5.4 Number of Dependents Groups by Region\n",
    "\n",
    "#6. Top Departments\n",
    "\n",
    "#7. Export Charts\n",
    "\n",
    "#8. Export Data"
   ]
  },
  {
   "cell_type": "markdown",
   "id": "c3f1201c-cf10-4e49-8045-084252923173",
   "metadata": {},
   "source": [
    "1. Import Libraries and Data"
   ]
  },
  {
   "cell_type": "code",
   "execution_count": 3,
   "id": "bc53c686-8ab3-4fd9-afcf-5c060118ca90",
   "metadata": {},
   "outputs": [],
   "source": [
    "# Import libraries\n",
    "import pandas as pd\n",
    "import numpy as np\n",
    "import os\n",
    "import matplotlib.pyplot as plt\n",
    "import seaborn as sns\n",
    "import scipy"
   ]
  },
  {
   "cell_type": "code",
   "execution_count": 4,
   "id": "4e91a005-6c46-4ecd-8586-de8d4957ece6",
   "metadata": {},
   "outputs": [],
   "source": [
    "# importing department df\n",
    "df_dep=pd.read_csv(r\"C:\\Users\\Owner\\Downloads\\4.4_departments\\departments.csv\")"
   ]
  },
  {
   "cell_type": "code",
   "execution_count": 5,
   "id": "1013caa5-097c-4bed-b5f7-c3c2ab39d260",
   "metadata": {},
   "outputs": [],
   "source": [
    "# import df from 4.10 pt 1 \n",
    "df_ords_prods_customers_merge_pt_one_with_exclusion =pd.read_pickle(r\"C:\\Users\\Owner\\Downloads\\df_ords_prods_customers_merge_pt_one_with_exclusion.pkl\")"
   ]
  },
  {
   "cell_type": "code",
   "execution_count": 6,
   "id": "c57bce70-571c-4a03-8594-a5ce71ca7d3d",
   "metadata": {},
   "outputs": [],
   "source": [
    "import pandas as pd\n",
    "\n",
    "# Dictionary mapping department_id to department names\n",
    "department_mapping = {\n",
    "    1: 'frozen',\n",
    "    2: 'other',\n",
    "    3: 'bakery',\n",
    "    4: 'produce',\n",
    "    5: 'alcohol',\n",
    "    6: 'international',\n",
    "    7: 'beverags',\n",
    "    8: 'pets',\n",
    "    9: 'dry goods pasta',\n",
    "    13: 'pantry',\n",
    "    14: 'breakfast',\n",
    "    15: 'canned goods',\n",
    "    16: 'dairy eggs',\n",
    "    17: 'household',\n",
    "    18: 'babies',\n",
    "    19: 'snacks',\n",
    "    20: 'deli',\n",
    "    21: 'missing'\n",
    "    }\n",
    "\n",
    "# Create a new column 'department' using the map() function\n",
    "df_ords_prods_customers_merge_pt_one_with_exclusion['department'] = df_ords_prods_customers_merge_pt_one_with_exclusion['department_id'].map(department_mapping).fillna(df_ords_prods_customers_merge_pt_one_with_exclusion['department_id'])\n"
   ]
  },
  {
   "cell_type": "code",
   "execution_count": 7,
   "id": "c884506c-8812-4194-b1f5-ddffe9fd37b6",
   "metadata": {},
   "outputs": [
    {
     "data": {
      "text/html": [
       "<div>\n",
       "<style scoped>\n",
       "    .dataframe tbody tr th:only-of-type {\n",
       "        vertical-align: middle;\n",
       "    }\n",
       "\n",
       "    .dataframe tbody tr th {\n",
       "        vertical-align: top;\n",
       "    }\n",
       "\n",
       "    .dataframe thead th {\n",
       "        text-align: right;\n",
       "    }\n",
       "</style>\n",
       "<table border=\"1\" class=\"dataframe\">\n",
       "  <thead>\n",
       "    <tr style=\"text-align: right;\">\n",
       "      <th></th>\n",
       "      <th>product_id</th>\n",
       "      <th>product_name</th>\n",
       "      <th>aisle_id</th>\n",
       "      <th>department_id</th>\n",
       "      <th>prices</th>\n",
       "      <th>order_id</th>\n",
       "      <th>user_id</th>\n",
       "      <th>eval_set</th>\n",
       "      <th>order_number</th>\n",
       "      <th>orders_day_of_week</th>\n",
       "      <th>...</th>\n",
       "      <th>gender</th>\n",
       "      <th>state</th>\n",
       "      <th>date_joined</th>\n",
       "      <th>n_dependants</th>\n",
       "      <th>marital_status</th>\n",
       "      <th>income_group</th>\n",
       "      <th>age_group</th>\n",
       "      <th>region</th>\n",
       "      <th>activity_level</th>\n",
       "      <th>department</th>\n",
       "    </tr>\n",
       "  </thead>\n",
       "  <tbody>\n",
       "    <tr>\n",
       "      <th>0</th>\n",
       "      <td>1</td>\n",
       "      <td>Chocolate Sandwich Cookies</td>\n",
       "      <td>61</td>\n",
       "      <td>19</td>\n",
       "      <td>5.8</td>\n",
       "      <td>3139998</td>\n",
       "      <td>138</td>\n",
       "      <td>prior</td>\n",
       "      <td>28</td>\n",
       "      <td>6</td>\n",
       "      <td>...</td>\n",
       "      <td>Male</td>\n",
       "      <td>Minnesota</td>\n",
       "      <td>8/1/2019</td>\n",
       "      <td>1</td>\n",
       "      <td>married</td>\n",
       "      <td>Low_income</td>\n",
       "      <td>Senior</td>\n",
       "      <td>Midwest</td>\n",
       "      <td>High-activity customer</td>\n",
       "      <td>snacks</td>\n",
       "    </tr>\n",
       "    <tr>\n",
       "      <th>1</th>\n",
       "      <td>1</td>\n",
       "      <td>Chocolate Sandwich Cookies</td>\n",
       "      <td>61</td>\n",
       "      <td>19</td>\n",
       "      <td>5.8</td>\n",
       "      <td>1977647</td>\n",
       "      <td>138</td>\n",
       "      <td>prior</td>\n",
       "      <td>30</td>\n",
       "      <td>6</td>\n",
       "      <td>...</td>\n",
       "      <td>Male</td>\n",
       "      <td>Minnesota</td>\n",
       "      <td>8/1/2019</td>\n",
       "      <td>1</td>\n",
       "      <td>married</td>\n",
       "      <td>Low_income</td>\n",
       "      <td>Senior</td>\n",
       "      <td>Midwest</td>\n",
       "      <td>High-activity customer</td>\n",
       "      <td>snacks</td>\n",
       "    </tr>\n",
       "    <tr>\n",
       "      <th>2</th>\n",
       "      <td>1</td>\n",
       "      <td>Chocolate Sandwich Cookies</td>\n",
       "      <td>61</td>\n",
       "      <td>19</td>\n",
       "      <td>5.8</td>\n",
       "      <td>389851</td>\n",
       "      <td>709</td>\n",
       "      <td>prior</td>\n",
       "      <td>2</td>\n",
       "      <td>0</td>\n",
       "      <td>...</td>\n",
       "      <td>Female</td>\n",
       "      <td>Vermont</td>\n",
       "      <td>6/16/2018</td>\n",
       "      <td>2</td>\n",
       "      <td>married</td>\n",
       "      <td>High_income</td>\n",
       "      <td>Senior</td>\n",
       "      <td>Northeast</td>\n",
       "      <td>High-activity customer</td>\n",
       "      <td>snacks</td>\n",
       "    </tr>\n",
       "    <tr>\n",
       "      <th>5</th>\n",
       "      <td>1</td>\n",
       "      <td>Chocolate Sandwich Cookies</td>\n",
       "      <td>61</td>\n",
       "      <td>19</td>\n",
       "      <td>5.8</td>\n",
       "      <td>1701441</td>\n",
       "      <td>777</td>\n",
       "      <td>prior</td>\n",
       "      <td>16</td>\n",
       "      <td>1</td>\n",
       "      <td>...</td>\n",
       "      <td>Female</td>\n",
       "      <td>Hawaii</td>\n",
       "      <td>1/4/2019</td>\n",
       "      <td>2</td>\n",
       "      <td>married</td>\n",
       "      <td>Middle_income</td>\n",
       "      <td>Older adult</td>\n",
       "      <td>West</td>\n",
       "      <td>High-activity customer</td>\n",
       "      <td>snacks</td>\n",
       "    </tr>\n",
       "    <tr>\n",
       "      <th>6</th>\n",
       "      <td>1</td>\n",
       "      <td>Chocolate Sandwich Cookies</td>\n",
       "      <td>61</td>\n",
       "      <td>19</td>\n",
       "      <td>5.8</td>\n",
       "      <td>1871483</td>\n",
       "      <td>825</td>\n",
       "      <td>prior</td>\n",
       "      <td>3</td>\n",
       "      <td>2</td>\n",
       "      <td>...</td>\n",
       "      <td>Male</td>\n",
       "      <td>District of Columbia</td>\n",
       "      <td>5/8/2019</td>\n",
       "      <td>3</td>\n",
       "      <td>living with parents and siblings</td>\n",
       "      <td>Low_income</td>\n",
       "      <td>Young adult</td>\n",
       "      <td>South</td>\n",
       "      <td>High-activity customer</td>\n",
       "      <td>snacks</td>\n",
       "    </tr>\n",
       "  </tbody>\n",
       "</table>\n",
       "<p>5 rows × 36 columns</p>\n",
       "</div>"
      ],
      "text/plain": [
       "   product_id                product_name  aisle_id  department_id  prices  \\\n",
       "0           1  Chocolate Sandwich Cookies        61             19     5.8   \n",
       "1           1  Chocolate Sandwich Cookies        61             19     5.8   \n",
       "2           1  Chocolate Sandwich Cookies        61             19     5.8   \n",
       "5           1  Chocolate Sandwich Cookies        61             19     5.8   \n",
       "6           1  Chocolate Sandwich Cookies        61             19     5.8   \n",
       "\n",
       "   order_id  user_id eval_set  order_number  orders_day_of_week  ...  gender  \\\n",
       "0   3139998      138    prior            28                   6  ...    Male   \n",
       "1   1977647      138    prior            30                   6  ...    Male   \n",
       "2    389851      709    prior             2                   0  ...  Female   \n",
       "5   1701441      777    prior            16                   1  ...  Female   \n",
       "6   1871483      825    prior             3                   2  ...    Male   \n",
       "\n",
       "                  state  date_joined  n_dependants  \\\n",
       "0             Minnesota     8/1/2019             1   \n",
       "1             Minnesota     8/1/2019             1   \n",
       "2               Vermont    6/16/2018             2   \n",
       "5                Hawaii     1/4/2019             2   \n",
       "6  District of Columbia     5/8/2019             3   \n",
       "\n",
       "                     marital_status   income_group    age_group     region  \\\n",
       "0                           married     Low_income       Senior    Midwest   \n",
       "1                           married     Low_income       Senior    Midwest   \n",
       "2                           married    High_income       Senior  Northeast   \n",
       "5                           married  Middle_income  Older adult       West   \n",
       "6  living with parents and siblings     Low_income  Young adult      South   \n",
       "\n",
       "           activity_level department  \n",
       "0  High-activity customer     snacks  \n",
       "1  High-activity customer     snacks  \n",
       "2  High-activity customer     snacks  \n",
       "5  High-activity customer     snacks  \n",
       "6  High-activity customer     snacks  \n",
       "\n",
       "[5 rows x 36 columns]"
      ]
     },
     "execution_count": 7,
     "metadata": {},
     "output_type": "execute_result"
    }
   ],
   "source": [
    "df_ords_prods_customers_merge_pt_one_with_exclusion.head()"
   ]
  },
  {
   "cell_type": "markdown",
   "id": "df171a43-977d-4693-ab47-fe49ba6e2adf",
   "metadata": {},
   "source": [
    "2. Create Profiling Variables"
   ]
  },
  {
   "cell_type": "markdown",
   "id": "d9466f8a-7c3d-49ac-b9ba-63669fa42bd9",
   "metadata": {},
   "source": [
    "Demographic Variables:\n",
    "\n",
    "- Dependents: Has dependents, No dependents\n",
    "- Income Groups: high, middle, low (created in 4.10 pt 1)\n",
    "- Age Groups: young_adult, adult, older_adult, senior (created in 4.10 pt 1)\n",
    "- Family Status: single, married, divorced/widowed, living with parents and siblings"
   ]
  },
  {
   "cell_type": "markdown",
   "id": "7a6b9544-5514-49f7-a99f-d1a2ca075bf5",
   "metadata": {},
   "source": [
    "All possible customer profiles w/o age groups and income groups:\n",
    "- Single with No Dependents\n",
    "- Single with Dependents\n",
    "- Married Adult with No Dependents\n",
    "- Married Adult with Dependents\n",
    "- Divorced/widowed with No Dependents\n",
    "- Divorced/Widowed with Dependents\n",
    "- Living with parents/siblings with No Dependents\n",
    "- Living with parents/siblings with Dependents"
   ]
  },
  {
   "cell_type": "markdown",
   "id": "f18fd3fa-a5d2-4816-944d-99c4a019bb66",
   "metadata": {},
   "source": [
    "2.1 Dependents Group"
   ]
  },
  {
   "cell_type": "code",
   "execution_count": 12,
   "id": "04f116c3-a470-48fa-8515-6362ea811e4b",
   "metadata": {},
   "outputs": [],
   "source": [
    "# Define get_dependents\n",
    "def get_dependents(n_dependants):\n",
    "    if n_dependants > 0:\n",
    "        return 'Has dependents'\n",
    "    else:\n",
    "        return 'No dependents'\n",
    "# Apply the dependents_flag function\n",
    "df_ords_prods_customers_merge_pt_one_with_exclusion['dependents_flag'] = df_ords_prods_customers_merge_pt_one_with_exclusion['n_dependants'].apply(get_dependents)"
   ]
  },
  {
   "cell_type": "code",
   "execution_count": 13,
   "id": "8f92b817-a204-4966-a1b5-5042c9302739",
   "metadata": {},
   "outputs": [
    {
     "data": {
      "text/plain": [
       "dependents_flag\n",
       "Has dependents    23245632\n",
       "No dependents      7747032\n",
       "Name: count, dtype: int64"
      ]
     },
     "execution_count": 13,
     "metadata": {},
     "output_type": "execute_result"
    }
   ],
   "source": [
    "df_ords_prods_customers_merge_pt_one_with_exclusion['dependents_flag'].value_counts()"
   ]
  },
  {
   "cell_type": "markdown",
   "id": "b84321e2-8e93-49b1-a460-e11e0cc7ff48",
   "metadata": {},
   "source": [
    "2.2 Customer Profile - Variable"
   ]
  },
  {
   "cell_type": "code",
   "execution_count": 15,
   "id": "63a88806-e728-4010-aa8f-16871c52f862",
   "metadata": {},
   "outputs": [],
   "source": [
    "# Define the function to create profiles\n",
    "def create_profile(row):\n",
    "    family_status = row['marital_status']\n",
    "    dependents_flag = row['dependents_flag']\n",
    "    return f\"{family_status}, {dependents_flag}\"\n",
    "\n",
    "# Apply the function to create a new column 'customer_profile'\n",
    "df_ords_prods_customers_merge_pt_one_with_exclusion['customer_profile'] = df_ords_prods_customers_merge_pt_one_with_exclusion.apply(create_profile, axis=1)\n",
    "\n",
    "\n"
   ]
  },
  {
   "cell_type": "code",
   "execution_count": 16,
   "id": "3dbaa723-3287-43cc-845a-f37c6f1976da",
   "metadata": {},
   "outputs": [
    {
     "data": {
      "text/html": [
       "<div>\n",
       "<style scoped>\n",
       "    .dataframe tbody tr th:only-of-type {\n",
       "        vertical-align: middle;\n",
       "    }\n",
       "\n",
       "    .dataframe tbody tr th {\n",
       "        vertical-align: top;\n",
       "    }\n",
       "\n",
       "    .dataframe thead th {\n",
       "        text-align: right;\n",
       "    }\n",
       "</style>\n",
       "<table border=\"1\" class=\"dataframe\">\n",
       "  <thead>\n",
       "    <tr style=\"text-align: right;\">\n",
       "      <th></th>\n",
       "      <th>product_id</th>\n",
       "      <th>product_name</th>\n",
       "      <th>aisle_id</th>\n",
       "      <th>department_id</th>\n",
       "      <th>prices</th>\n",
       "      <th>order_id</th>\n",
       "      <th>user_id</th>\n",
       "      <th>eval_set</th>\n",
       "      <th>order_number</th>\n",
       "      <th>orders_day_of_week</th>\n",
       "      <th>...</th>\n",
       "      <th>date_joined</th>\n",
       "      <th>n_dependants</th>\n",
       "      <th>marital_status</th>\n",
       "      <th>income_group</th>\n",
       "      <th>age_group</th>\n",
       "      <th>region</th>\n",
       "      <th>activity_level</th>\n",
       "      <th>department</th>\n",
       "      <th>dependents_flag</th>\n",
       "      <th>customer_profile</th>\n",
       "    </tr>\n",
       "  </thead>\n",
       "  <tbody>\n",
       "    <tr>\n",
       "      <th>0</th>\n",
       "      <td>1</td>\n",
       "      <td>Chocolate Sandwich Cookies</td>\n",
       "      <td>61</td>\n",
       "      <td>19</td>\n",
       "      <td>5.8</td>\n",
       "      <td>3139998</td>\n",
       "      <td>138</td>\n",
       "      <td>prior</td>\n",
       "      <td>28</td>\n",
       "      <td>6</td>\n",
       "      <td>...</td>\n",
       "      <td>8/1/2019</td>\n",
       "      <td>1</td>\n",
       "      <td>married</td>\n",
       "      <td>Low_income</td>\n",
       "      <td>Senior</td>\n",
       "      <td>Midwest</td>\n",
       "      <td>High-activity customer</td>\n",
       "      <td>snacks</td>\n",
       "      <td>Has dependents</td>\n",
       "      <td>married, Has dependents</td>\n",
       "    </tr>\n",
       "    <tr>\n",
       "      <th>1</th>\n",
       "      <td>1</td>\n",
       "      <td>Chocolate Sandwich Cookies</td>\n",
       "      <td>61</td>\n",
       "      <td>19</td>\n",
       "      <td>5.8</td>\n",
       "      <td>1977647</td>\n",
       "      <td>138</td>\n",
       "      <td>prior</td>\n",
       "      <td>30</td>\n",
       "      <td>6</td>\n",
       "      <td>...</td>\n",
       "      <td>8/1/2019</td>\n",
       "      <td>1</td>\n",
       "      <td>married</td>\n",
       "      <td>Low_income</td>\n",
       "      <td>Senior</td>\n",
       "      <td>Midwest</td>\n",
       "      <td>High-activity customer</td>\n",
       "      <td>snacks</td>\n",
       "      <td>Has dependents</td>\n",
       "      <td>married, Has dependents</td>\n",
       "    </tr>\n",
       "    <tr>\n",
       "      <th>2</th>\n",
       "      <td>1</td>\n",
       "      <td>Chocolate Sandwich Cookies</td>\n",
       "      <td>61</td>\n",
       "      <td>19</td>\n",
       "      <td>5.8</td>\n",
       "      <td>389851</td>\n",
       "      <td>709</td>\n",
       "      <td>prior</td>\n",
       "      <td>2</td>\n",
       "      <td>0</td>\n",
       "      <td>...</td>\n",
       "      <td>6/16/2018</td>\n",
       "      <td>2</td>\n",
       "      <td>married</td>\n",
       "      <td>High_income</td>\n",
       "      <td>Senior</td>\n",
       "      <td>Northeast</td>\n",
       "      <td>High-activity customer</td>\n",
       "      <td>snacks</td>\n",
       "      <td>Has dependents</td>\n",
       "      <td>married, Has dependents</td>\n",
       "    </tr>\n",
       "    <tr>\n",
       "      <th>5</th>\n",
       "      <td>1</td>\n",
       "      <td>Chocolate Sandwich Cookies</td>\n",
       "      <td>61</td>\n",
       "      <td>19</td>\n",
       "      <td>5.8</td>\n",
       "      <td>1701441</td>\n",
       "      <td>777</td>\n",
       "      <td>prior</td>\n",
       "      <td>16</td>\n",
       "      <td>1</td>\n",
       "      <td>...</td>\n",
       "      <td>1/4/2019</td>\n",
       "      <td>2</td>\n",
       "      <td>married</td>\n",
       "      <td>Middle_income</td>\n",
       "      <td>Older adult</td>\n",
       "      <td>West</td>\n",
       "      <td>High-activity customer</td>\n",
       "      <td>snacks</td>\n",
       "      <td>Has dependents</td>\n",
       "      <td>married, Has dependents</td>\n",
       "    </tr>\n",
       "    <tr>\n",
       "      <th>6</th>\n",
       "      <td>1</td>\n",
       "      <td>Chocolate Sandwich Cookies</td>\n",
       "      <td>61</td>\n",
       "      <td>19</td>\n",
       "      <td>5.8</td>\n",
       "      <td>1871483</td>\n",
       "      <td>825</td>\n",
       "      <td>prior</td>\n",
       "      <td>3</td>\n",
       "      <td>2</td>\n",
       "      <td>...</td>\n",
       "      <td>5/8/2019</td>\n",
       "      <td>3</td>\n",
       "      <td>living with parents and siblings</td>\n",
       "      <td>Low_income</td>\n",
       "      <td>Young adult</td>\n",
       "      <td>South</td>\n",
       "      <td>High-activity customer</td>\n",
       "      <td>snacks</td>\n",
       "      <td>Has dependents</td>\n",
       "      <td>living with parents and siblings, Has dependents</td>\n",
       "    </tr>\n",
       "  </tbody>\n",
       "</table>\n",
       "<p>5 rows × 38 columns</p>\n",
       "</div>"
      ],
      "text/plain": [
       "   product_id                product_name  aisle_id  department_id  prices  \\\n",
       "0           1  Chocolate Sandwich Cookies        61             19     5.8   \n",
       "1           1  Chocolate Sandwich Cookies        61             19     5.8   \n",
       "2           1  Chocolate Sandwich Cookies        61             19     5.8   \n",
       "5           1  Chocolate Sandwich Cookies        61             19     5.8   \n",
       "6           1  Chocolate Sandwich Cookies        61             19     5.8   \n",
       "\n",
       "   order_id  user_id eval_set  order_number  orders_day_of_week  ...  \\\n",
       "0   3139998      138    prior            28                   6  ...   \n",
       "1   1977647      138    prior            30                   6  ...   \n",
       "2    389851      709    prior             2                   0  ...   \n",
       "5   1701441      777    prior            16                   1  ...   \n",
       "6   1871483      825    prior             3                   2  ...   \n",
       "\n",
       "   date_joined  n_dependants                    marital_status   income_group  \\\n",
       "0     8/1/2019             1                           married     Low_income   \n",
       "1     8/1/2019             1                           married     Low_income   \n",
       "2    6/16/2018             2                           married    High_income   \n",
       "5     1/4/2019             2                           married  Middle_income   \n",
       "6     5/8/2019             3  living with parents and siblings     Low_income   \n",
       "\n",
       "     age_group     region          activity_level department  dependents_flag  \\\n",
       "0       Senior    Midwest  High-activity customer     snacks   Has dependents   \n",
       "1       Senior    Midwest  High-activity customer     snacks   Has dependents   \n",
       "2       Senior  Northeast  High-activity customer     snacks   Has dependents   \n",
       "5  Older adult       West  High-activity customer     snacks   Has dependents   \n",
       "6  Young adult      South  High-activity customer     snacks   Has dependents   \n",
       "\n",
       "                                   customer_profile  \n",
       "0                           married, Has dependents  \n",
       "1                           married, Has dependents  \n",
       "2                           married, Has dependents  \n",
       "5                           married, Has dependents  \n",
       "6  living with parents and siblings, Has dependents  \n",
       "\n",
       "[5 rows x 38 columns]"
      ]
     },
     "execution_count": 16,
     "metadata": {},
     "output_type": "execute_result"
    }
   ],
   "source": [
    "df_ords_prods_customers_merge_pt_one_with_exclusion.head()"
   ]
  },
  {
   "cell_type": "code",
   "execution_count": 17,
   "id": "3047ff74-73ea-49c3-98d4-9e2900fa420a",
   "metadata": {},
   "outputs": [
    {
     "name": "stderr",
     "output_type": "stream",
     "text": [
      "C:\\Users\\Owner\\AppData\\Local\\Temp\\ipykernel_20744\\3587533679.py:3: FutureWarning: The provided callable <function max at 0x00000230AD1DA340> is currently using SeriesGroupBy.max. In a future version of pandas, the provided callable will be used directly. To keep current behavior pass the string \"max\" instead.\n",
      "  df_ords_prods_customers_merge_pt_one_with_exclusion['alcohol_status'] = df_ords_prods_customers_merge_pt_one_with_exclusion.groupby(['user_id'])['alcohol_status'].transform(np.max)\n"
     ]
    }
   ],
   "source": [
    "# Creating alcohol profiling variable\n",
    "df_ords_prods_customers_merge_pt_one_with_exclusion['alcohol_status'] = [1 if x == 'alcohol' else 0 for x in df_ords_prods_customers_merge_pt_one_with_exclusion['department_id']]\n",
    "df_ords_prods_customers_merge_pt_one_with_exclusion['alcohol_status'] = df_ords_prods_customers_merge_pt_one_with_exclusion.groupby(['user_id'])['alcohol_status'].transform(np.max)"
   ]
  },
  {
   "cell_type": "code",
   "execution_count": 18,
   "id": "edf1c685-1afc-43be-a2ec-ebf91bd33e46",
   "metadata": {},
   "outputs": [
    {
     "data": {
      "text/plain": [
       "alcohol_status\n",
       "0    30992664\n",
       "Name: count, dtype: int64"
      ]
     },
     "execution_count": 18,
     "metadata": {},
     "output_type": "execute_result"
    }
   ],
   "source": [
    "df_ords_prods_customers_merge_pt_one_with_exclusion['alcohol_status'].value_counts(dropna=False)"
   ]
  },
  {
   "cell_type": "code",
   "execution_count": 19,
   "id": "4dc53b6a-46a0-4c3a-98fa-af7b1ecc5dd2",
   "metadata": {},
   "outputs": [
    {
     "name": "stderr",
     "output_type": "stream",
     "text": [
      "C:\\Users\\Owner\\AppData\\Local\\Temp\\ipykernel_20744\\1961549087.py:5: FutureWarning: The provided callable <function max at 0x00000230AD1DA340> is currently using SeriesGroupBy.max. In a future version of pandas, the provided callable will be used directly. To keep current behavior pass the string \"max\" instead.\n",
      "  df_ords_prods_customers_merge_pt_one_with_exclusion['pet_status']=df_ords_prods_customers_merge_pt_one_with_exclusion.groupby(['user_id'])['pet_status'].transform(np.max)\n"
     ]
    }
   ],
   "source": [
    "#Creating pet profiling variable\n",
    "#bought pet supplies(1) \n",
    "#didn't buy pet supplies (0)\n",
    "df_ords_prods_customers_merge_pt_one_with_exclusion['pet_status'] = [1 if x == 'pets' else 0 for x in df_ords_prods_customers_merge_pt_one_with_exclusion['department_id']]\n",
    "df_ords_prods_customers_merge_pt_one_with_exclusion['pet_status']=df_ords_prods_customers_merge_pt_one_with_exclusion.groupby(['user_id'])['pet_status'].transform(np.max)"
   ]
  },
  {
   "cell_type": "code",
   "execution_count": 20,
   "id": "811c1b72-77e4-475d-a8b1-620cb29b9699",
   "metadata": {},
   "outputs": [
    {
     "data": {
      "text/plain": [
       "pet_status\n",
       "0    30992664\n",
       "Name: count, dtype: int64"
      ]
     },
     "execution_count": 20,
     "metadata": {},
     "output_type": "execute_result"
    }
   ],
   "source": [
    "df_ords_prods_customers_merge_pt_one_with_exclusion['pet_status'].value_counts(dropna=False)"
   ]
  },
  {
   "cell_type": "code",
   "execution_count": 21,
   "id": "de5dc5f3-93ca-4673-bb9a-d4bb7afd5cb0",
   "metadata": {},
   "outputs": [
    {
     "name": "stderr",
     "output_type": "stream",
     "text": [
      "C:\\Users\\Owner\\AppData\\Local\\Temp\\ipykernel_20744\\1584978468.py:3: FutureWarning: The provided callable <function max at 0x00000230AD1DA340> is currently using SeriesGroupBy.max. In a future version of pandas, the provided callable will be used directly. To keep current behavior pass the string \"max\" instead.\n",
      "  df_ords_prods_customers_merge_pt_one_with_exclusion['baby_status'] = df_ords_prods_customers_merge_pt_one_with_exclusion.groupby(['user_id'])['baby_status'].transform(np.max)\n"
     ]
    }
   ],
   "source": [
    "# Creating baby department profiling variable\n",
    "df_ords_prods_customers_merge_pt_one_with_exclusion['baby_status'] = [1 if x == 'babies' else 0 for x in df_ords_prods_customers_merge_pt_one_with_exclusion['department_id']]\n",
    "df_ords_prods_customers_merge_pt_one_with_exclusion['baby_status'] = df_ords_prods_customers_merge_pt_one_with_exclusion.groupby(['user_id'])['baby_status'].transform(np.max)"
   ]
  },
  {
   "cell_type": "code",
   "execution_count": 22,
   "id": "97162599-007f-48b4-93d0-88bb9cd37f86",
   "metadata": {},
   "outputs": [
    {
     "data": {
      "text/plain": [
       "baby_status\n",
       "0    30992664\n",
       "Name: count, dtype: int64"
      ]
     },
     "execution_count": 22,
     "metadata": {},
     "output_type": "execute_result"
    }
   ],
   "source": [
    "df_ords_prods_customers_merge_pt_one_with_exclusion['baby_status'].value_counts(dropna=False)"
   ]
  },
  {
   "cell_type": "markdown",
   "id": "13e232ed-e4e9-43dd-9269-235d3eacec87",
   "metadata": {},
   "source": [
    "3. Visualization for Customer Profiles Distributions"
   ]
  },
  {
   "cell_type": "code",
   "execution_count": 24,
   "id": "35e6a63f-12dc-43b1-b8b7-322b3da3cf8e",
   "metadata": {},
   "outputs": [
    {
     "data": {
      "image/png": "[encoded data removed]",
      "text/plain": [
       "<Figure size 640x480 with 1 Axes>"
      ]
     },
     "metadata": {},
     "output_type": "display_data"
    }
   ],
   "source": [
    "import textwrap\n",
    "from matplotlib.ticker import FuncFormatter\n",
    "\n",
    "# Create chart showing distribution of customers by 'customer_profile\n",
    "counts = df_ords_prods_customers_merge_pt_one_with_exclusion['customer_profile'].value_counts()\n",
    "ax = counts.plot.bar()\n",
    "\n",
    "plt.title('Number of Products Purchased by Customer Profile')\n",
    "plt.xlabel(' ')\n",
    "plt.ylabel('Number of Products Purchased')\n",
    "\n",
    "# Format y-axis values\n",
    "def value_formatter(x, pos):\n",
    "    return f'{x:,.0f}'\n",
    "plt.gca().yaxis.set_major_formatter(FuncFormatter(value_formatter))\n",
    "\n",
    "# Wrap text labels\n",
    "labels = [textwrap.fill(label, width=17) for label in counts.index]\n",
    "plt.xticks(ticks=range(len(labels)), labels=labels, rotation=0, ha='center')\n",
    "plt.tight_layout()  # Adjust layout to fit labels\n",
    "bar_customer_profile = plt.gcf()"
   ]
  },
  {
   "cell_type": "code",
   "execution_count": 25,
   "id": "07ab5122-2f3d-4d87-a457-f4c4d22910ca",
   "metadata": {},
   "outputs": [],
   "source": [
    "# Export chart\n",
    "path = \"../04 Analysis/Visualizations\"\n",
    "bar_customer_profile.savefig(os.path.join(path, 'bar_customer_profile.png'), dpi=300, bbox_inches='tight')"
   ]
  },
  {
   "cell_type": "markdown",
   "id": "f50c455a-8c97-4097-983b-a95d6f89cb06",
   "metadata": {},
   "source": [
    "4. Basic Statistics on Customer Profile level for Usage Frequency and Expenditure"
   ]
  },
  {
   "cell_type": "code",
   "execution_count": 27,
   "id": "ad89128a-5437-4443-8374-465fd20487a5",
   "metadata": {},
   "outputs": [],
   "source": [
    "# Create 'total_expenditure' variable\n",
    "df_ords_prods_customers_merge_pt_one_with_exclusion['total_expenditure'] = df_ords_prods_customers_merge_pt_one_with_exclusion.groupby('user_id')['prices'].transform('sum')"
   ]
  },
  {
   "cell_type": "code",
   "execution_count": 28,
   "id": "b6d00ec7-b482-40b7-899c-5890db4fb1c6",
   "metadata": {},
   "outputs": [
    {
     "name": "stdout",
     "output_type": "stream",
     "text": [
      "                                    Max Order (Max)  Max Order (Mean)  \\\n",
      "0                   divorced/widowed, No dependents         34.710415   \n",
      "1  living with parents and siblings, Has dependents         34.854308   \n",
      "2                           married, Has dependents         34.306881   \n",
      "3                             single, No dependents         34.659950   \n",
      "\n",
      "   Max Order (Min)  \n",
      "0             28.0  \n",
      "1             28.0  \n",
      "2             28.0  \n",
      "3             28.0  \n"
     ]
    }
   ],
   "source": [
    "# Group by 'customer_profile' and aggregate 'max_order'\n",
    "usage_stats = df_ords_prods_customers_merge_pt_one_with_exclusion.groupby('customer_profile').agg({'max_order': ['mean', 'median']}).reset_index()\n",
    "# Flatten MultiIndex columns\n",
    "usage_stats.columns = ['Max Order (Max)', 'Max Order (Mean)', 'Max Order (Min)']\n",
    "print(usage_stats)"
   ]
  },
  {
   "cell_type": "code",
   "execution_count": 29,
   "id": "be037c44-b024-478a-ad83-1bcfe74039a5",
   "metadata": {},
   "outputs": [],
   "source": [
    "usage_stats.to_clipboard()"
   ]
  },
  {
   "cell_type": "markdown",
   "id": "10fb2f8b-74c0-472c-a4a0-4553982c4608",
   "metadata": {},
   "source": [
    "5. Comparing Customer Profiles with Regions and Departments"
   ]
  },
  {
   "cell_type": "markdown",
   "id": "6cb3c27f-5618-42f5-ab4a-915474fe1e06",
   "metadata": {},
   "source": [
    "5.1 Customer profiles by region"
   ]
  },
  {
   "cell_type": "code",
   "execution_count": 32,
   "id": "624c76b0-e305-4feb-a2a9-922bcdd478de",
   "metadata": {},
   "outputs": [],
   "source": [
    "# Group by 'region' and 'customer_profile' and count occurrences\n",
    "customer_profile_counts = df_ords_prods_customers_merge_pt_one_with_exclusion.groupby(['region', 'customer_profile']).size().unstack(fill_value=0)"
   ]
  },
  {
   "cell_type": "code",
   "execution_count": 33,
   "id": "62b84475-8548-4fe2-b61e-ccda56640369",
   "metadata": {},
   "outputs": [
    {
     "data": {
      "text/html": [
       "<div>\n",
       "<style scoped>\n",
       "    .dataframe tbody tr th:only-of-type {\n",
       "        vertical-align: middle;\n",
       "    }\n",
       "\n",
       "    .dataframe tbody tr th {\n",
       "        vertical-align: top;\n",
       "    }\n",
       "\n",
       "    .dataframe thead th {\n",
       "        text-align: right;\n",
       "    }\n",
       "</style>\n",
       "<table border=\"1\" class=\"dataframe\">\n",
       "  <thead>\n",
       "    <tr style=\"text-align: right;\">\n",
       "      <th>customer_profile</th>\n",
       "      <th>divorced/widowed, No dependents</th>\n",
       "      <th>living with parents and siblings, Has dependents</th>\n",
       "      <th>married, Has dependents</th>\n",
       "      <th>single, No dependents</th>\n",
       "    </tr>\n",
       "    <tr>\n",
       "      <th>region</th>\n",
       "      <th></th>\n",
       "      <th></th>\n",
       "      <th></th>\n",
       "      <th></th>\n",
       "    </tr>\n",
       "  </thead>\n",
       "  <tbody>\n",
       "    <tr>\n",
       "      <th>Midwest</th>\n",
       "      <td>617713</td>\n",
       "      <td>351692</td>\n",
       "      <td>5091528</td>\n",
       "      <td>1206774</td>\n",
       "    </tr>\n",
       "    <tr>\n",
       "      <th>Northeast</th>\n",
       "      <td>479244</td>\n",
       "      <td>256783</td>\n",
       "      <td>3857457</td>\n",
       "      <td>876584</td>\n",
       "    </tr>\n",
       "    <tr>\n",
       "      <th>South</th>\n",
       "      <td>878028</td>\n",
       "      <td>505905</td>\n",
       "      <td>7230205</td>\n",
       "      <td>1706324</td>\n",
       "    </tr>\n",
       "    <tr>\n",
       "      <th>West</th>\n",
       "      <td>672776</td>\n",
       "      <td>368231</td>\n",
       "      <td>5583831</td>\n",
       "      <td>1309589</td>\n",
       "    </tr>\n",
       "  </tbody>\n",
       "</table>\n",
       "</div>"
      ],
      "text/plain": [
       "customer_profile  divorced/widowed, No dependents  \\\n",
       "region                                              \n",
       "Midwest                                    617713   \n",
       "Northeast                                  479244   \n",
       "South                                      878028   \n",
       "West                                       672776   \n",
       "\n",
       "customer_profile  living with parents and siblings, Has dependents  \\\n",
       "region                                                               \n",
       "Midwest                                                     351692   \n",
       "Northeast                                                   256783   \n",
       "South                                                       505905   \n",
       "West                                                        368231   \n",
       "\n",
       "customer_profile  married, Has dependents  single, No dependents  \n",
       "region                                                            \n",
       "Midwest                           5091528                1206774  \n",
       "Northeast                         3857457                 876584  \n",
       "South                             7230205                1706324  \n",
       "West                              5583831                1309589  "
      ]
     },
     "execution_count": 33,
     "metadata": {},
     "output_type": "execute_result"
    }
   ],
   "source": [
    "customer_profile_counts"
   ]
  },
  {
   "cell_type": "code",
   "execution_count": 34,
   "id": "a39dfd18-d847-46a3-b683-edd7b4a3360c",
   "metadata": {},
   "outputs": [
    {
     "data": {
      "image/png": "[encoded data removed]",
      "text/plain": [
       "<Figure size 1400x800 with 1 Axes>"
      ]
     },
     "metadata": {},
     "output_type": "display_data"
    }
   ],
   "source": [
    "# Group by 'region' and 'customer_profile' and count occurrences\n",
    "customer_profile_counts = df_ords_prods_customers_merge_pt_one_with_exclusion.groupby(['region', 'customer_profile']).size().unstack(fill_value=0)\n",
    "# Define the order of regions and customer profiles\n",
    "regions = ['West', 'Midwest', 'South', 'Northeast']\n",
    "customer_profiles = ['single, No dependents', 'married, Has dependents', 'divorced/widowed, No dependents', 'living with parents and siblings, Has dependents']\n",
    "# Ensure customer_profile_counts has all regions and customer profiles\n",
    "customer_profile_counts = customer_profile_counts.reindex(index=regions, columns=customer_profiles, fill_value=0)\n",
    "# Setting the positions and width for the bars\n",
    "bar_width = 0.15\n",
    "r1 = np.arange(len(regions))\n",
    "r2 = [x + bar_width for x in r1]\n",
    "r3 = [x + bar_width for x in r2]\n",
    "r4 = [x + bar_width for x in r3]\n",
    "# Plotting\n",
    "plt.figure(figsize=(14, 8))\n",
    "plt.bar(r1, customer_profile_counts['single, No dependents'], width=bar_width, edgecolor='black', label='Single, No Dependents', zorder=3)\n",
    "plt.bar(r2, customer_profile_counts['married, Has dependents'], width=bar_width, edgecolor='black', label='Married, Has Dependents', zorder=3)\n",
    "plt.bar(r3, customer_profile_counts['divorced/widowed, No dependents'], width=bar_width, edgecolor='black', label='Divorced/Widowed, No Dependents', zorder=3)\n",
    "plt.bar(r4, customer_profile_counts['living with parents and siblings, Has dependents'], width=bar_width, edgecolor='black', label='Living with Parents/Siblings, Has Dependents', zorder=3)\n",
    "# Adding labels\n",
    "plt.xlabel('Region')\n",
    "plt.ylabel('Number of Products Sold')\n",
    "plt.title('Number of Products Sold for each Customer Profile by Region')\n",
    "plt.xticks([r + 1.5 * bar_width for r in range(len(regions))], regions)\n",
    "# Custom y-axis formatting\n",
    "def value_formatter(x, pos):\n",
    "    return f'{x:,.0f}'\n",
    "plt.gca().yaxis.set_major_formatter(FuncFormatter(value_formatter))\n",
    "plt.legend()\n",
    "plt.tight_layout()\n",
    "customer_profile_region = plt.gcf()"
   ]
  },
  {
   "cell_type": "code",
   "execution_count": 35,
   "id": "b89ca070-0c56-4922-861e-4efd6c3b1898",
   "metadata": {},
   "outputs": [
    {
     "data": {
      "text/plain": [
       "customer_profile\n",
       "married, Has dependents                             21763021\n",
       "single, No dependents                                5099271\n",
       "divorced/widowed, No dependents                      2647761\n",
       "living with parents and siblings, Has dependents     1482611\n",
       "Name: count, dtype: int64"
      ]
     },
     "execution_count": 35,
     "metadata": {},
     "output_type": "execute_result"
    }
   ],
   "source": [
    "df_ords_prods_customers_merge_pt_one_with_exclusion['customer_profile'].value_counts()"
   ]
  },
  {
   "cell_type": "markdown",
   "id": "7a624360-2752-442c-906e-88874a8076c8",
   "metadata": {},
   "source": [
    "5.2 Age Groups by Region"
   ]
  },
  {
   "cell_type": "code",
   "execution_count": 37,
   "id": "aa7b9cc3-7454-4add-b79c-0985ff231ac2",
   "metadata": {},
   "outputs": [
    {
     "data": {
      "image/png": "[encoded data removed]",
      "text/plain": [
       "<Figure size 800x600 with 1 Axes>"
      ]
     },
     "metadata": {},
     "output_type": "display_data"
    }
   ],
   "source": [
    "# Create a DataFrame age_group_counts that contains the counts of each age group for each region.\\n\",\n",
    "age_group_counts = df_ords_prods_customers_merge_pt_one_with_exclusion.groupby(['region', 'age_group']).size().unstack(fill_value=0)\n",
    "regions = ['West', 'Midwest', 'South', 'Northeast']\n",
    "age_groups = ['Young adult', 'Adult', 'Older adult', 'Senior']\n",
    "# Ensure age_group_counts has all regions and age_groups\n",
    "age_group_counts = age_group_counts.reindex(regions, axis=0).reindex(age_groups, axis=1, fill_value=0)\n",
    "# Setting the positions and width for the bars\n",
    "bar_width = 0.15\n",
    "r1 = np.arange(len(regions))\n",
    "r2 = [x + bar_width for x in r1]\n",
    "r3 = [x + bar_width for x in r2]\n",
    "r4 = [x + bar_width for x in r3]\n",
    "# Plotting\n",
    "plt.figure(figsize=(8, 6))\n",
    "y_ticks = np.arange(0, 20000, 2500)\n",
    "for y in y_ticks:\n",
    "    plt.axhline(y=y, color='grey', linestyle='--', linewidth=0.5, zorder=0)\n",
    "plt.bar(r1, age_group_counts['Young adult'], width=bar_width, edgecolor='black', label='Young adult', zorder=3)\n",
    "plt.bar(r2, age_group_counts['Adult'], width=bar_width, edgecolor='black', label='Adult', zorder=3)\n",
    "plt.bar(r3, age_group_counts['Older adult'], width=bar_width, edgecolor='black', label='Older adult', zorder=3)\n",
    "plt.bar(r4, age_group_counts['Senior'], width=bar_width, edgecolor='black', label='Senior', zorder=3)\n",
    "# Adding labels\n",
    "plt.xlabel('Region')\n",
    "plt.ylabel('Number of Customers')\n",
    "plt.title('Distribution of Customers Age Groups by Region')\n",
    "plt.xticks([r + 1.5 * bar_width for r in range(len(regions))], regions)\n",
    "plt.legend()\n",
    "plt.tight_layout()\n",
    "age_groups_by_region = plt.gcf()\n",
    "# Display the plot\n",
    "plt.show()"
   ]
  },
  {
   "cell_type": "markdown",
   "id": "262286da-606c-430c-a6f2-3026ab1b71ed",
   "metadata": {},
   "source": [
    "5.3 Income Groups by Region"
   ]
  },
  {
   "cell_type": "code",
   "execution_count": 39,
   "id": "667fe111-ea30-4153-a93d-ecfd0b21c2a5",
   "metadata": {},
   "outputs": [
    {
     "name": "stdout",
     "output_type": "stream",
     "text": [
      "region     income_group \n",
      "Midwest    High_income      3402784\n",
      "           Low_income        784517\n",
      "           Middle_income    3080406\n",
      "Northeast  High_income      2518906\n",
      "           Low_income        587850\n",
      "           Middle_income    2363312\n",
      "South      High_income      4667781\n",
      "           Low_income       1143857\n",
      "           Middle_income    4508824\n",
      "West       High_income      3629948\n",
      "           Low_income        849925\n",
      "           Middle_income    3454554\n",
      "dtype: int64\n",
      "       region   income_group    count\n",
      "0     Midwest    High_income  3402784\n",
      "1     Midwest     Low_income   784517\n",
      "2     Midwest  Middle_income  3080406\n",
      "3   Northeast    High_income  2518906\n",
      "4   Northeast     Low_income   587850\n",
      "5   Northeast  Middle_income  2363312\n",
      "6       South    High_income  4667781\n",
      "7       South     Low_income  1143857\n",
      "8       South  Middle_income  4508824\n",
      "9        West    High_income  3629948\n",
      "10       West     Low_income   849925\n",
      "11       West  Middle_income  3454554\n",
      "income_group  High_income  Low_income  Middle_income\n",
      "region                                              \n",
      "Midwest           3402784      784517        3080406\n",
      "Northeast         2518906      587850        2363312\n",
      "South             4667781     1143857        4508824\n",
      "West              3629948      849925        3454554\n"
     ]
    },
    {
     "data": {
      "image/png": "[encoded data removed]",
      "text/plain": [
       "<Figure size 1000x600 with 1 Axes>"
      ]
     },
     "metadata": {},
     "output_type": "display_data"
    }
   ],
   "source": [
    "# Grouped data\n",
    "grouped = df_ords_prods_customers_merge_pt_one_with_exclusion.groupby(['region', 'income_group']).size()\n",
    "print(grouped)  # Debugging: Print the grouped data\n",
    "\n",
    "# Convert the grouped data to a DataFrame\n",
    "income_group_counts = grouped.reset_index(name='count')\n",
    "print(income_group_counts)  # Debugging: Print the DataFrame\n",
    "\n",
    "# Pivot the DataFrame to get the counts for each income group by region\n",
    "income_group_counts_pivot = income_group_counts.pivot(index='region', columns='income_group', values='count').fillna(0)\n",
    "print(income_group_counts_pivot)  # Debugging: Print the pivoted DataFrame\n",
    "\n",
    "# Setting the positions and width for the bars\n",
    "regions = income_group_counts_pivot.index\n",
    "income_groups = income_group_counts_pivot.columns\n",
    "bar_width = 0.25\n",
    "r1 = np.arange(len(regions))\n",
    "r2 = [x + bar_width for x in r1]\n",
    "r3 = [x + bar_width for x in r2]\n",
    "\n",
    "# Plotting\n",
    "plt.figure(figsize=(10, 6))\n",
    "plt.bar(r1, income_group_counts_pivot['Low_income'], width=bar_width, edgecolor='black', color='blue', label='Low income')\n",
    "plt.bar(r2, income_group_counts_pivot['Middle_income'], width=bar_width, edgecolor='black', color='green', label='Middle income')\n",
    "plt.bar(r3, income_group_counts_pivot['High_income'], width=bar_width, edgecolor='black', color='red', label='High income')\n",
    "# Adding labels\n",
    "plt.xlabel('Region')\n",
    "plt.ylabel('Number of Customers')\n",
    "plt.title('Distribution of Customers Income Groups by Region')\n",
    "plt.xticks([r + bar_width for r in range(len(regions))], regions)\n",
    "plt.legend()\n",
    "plt.tight_layout()\n",
    "income_group_by_region = plt.gcf()\n",
    "plt.show()\n"
   ]
  },
  {
   "cell_type": "markdown",
   "id": "312fcece-ab59-41db-94d8-157d6d825b18",
   "metadata": {},
   "source": [
    "5.4 Dependents Groups by Region"
   ]
  },
  {
   "cell_type": "code",
   "execution_count": 41,
   "id": "192c1b52-e5d6-4dde-81d8-1bfad7dc9592",
   "metadata": {},
   "outputs": [
    {
     "data": {
      "image/png": "[encoded data removed]",
      "text/plain": [
       "<Figure size 1000x600 with 1 Axes>"
      ]
     },
     "metadata": {},
     "output_type": "display_data"
    }
   ],
   "source": [
    "# Create a DataFrame income_group_counts that contains the counts of each dependents group for each region\n",
    "dependents_group_counts = df_ords_prods_customers_merge_pt_one_with_exclusion.groupby(['region', 'dependents_flag']).size().unstack(fill_value=0)\n",
    "regions = ['West', 'Midwest', 'South', 'Northeast']\n",
    "dependents_groups = ['Has dependents', 'No dependents']\n",
    "# Ensure dependents_group_counts has all regions and dependents_groups\n",
    "dependents_group_counts = dependents_group_counts.reindex(regions, axis=0).reindex(dependents_groups, axis=1, fill_value=0)\n",
    "# Setting the positions and width for the bars\n",
    "bar_width = 0.3\n",
    "r1 = np.arange(len(regions))\n",
    "r2 = [x + bar_width for x in r1]\n",
    "r3 = [x + bar_width for x in r2]\n",
    "# Plotting\n",
    "plt.figure(figsize=(10, 6))\n",
    "y_ticks = np.arange(0, 45000, 5000)\n",
    "for y in y_ticks:\n",
    "    plt.axhline(y=y, color='grey', linestyle='--', linewidth=0.5, zorder=0)\n",
    "plt.bar(r1, dependents_group_counts['Has dependents'], width=bar_width, edgecolor='black', label='Has dependents', zorder=3)\n",
    "plt.bar(r2, dependents_group_counts['No dependents'], width=bar_width, edgecolor='black', label='No dependents', zorder=3)\n",
    "# Adding labels\n",
    "plt.xlabel('Region')\n",
    "plt.ylabel('Number of Customers')\n",
    "plt.title('Distribution of whether Customer has Dependents by Region')\n",
    "plt.xticks([r + bar_width for r in range(len(regions))], regions)\n",
    "plt.legend(loc='upper right')\n",
    "plt.tight_layout()\n",
    "dependents_by_region = plt.gcf()\n",
    "# Display the plot\n",
    "plt.show()"
   ]
  },
  {
   "cell_type": "markdown",
   "id": "85dbf16b-cc0c-498d-9ec6-90d6cbc357c8",
   "metadata": {},
   "source": [
    "6. Top Departments"
   ]
  },
  {
   "cell_type": "code",
   "execution_count": 43,
   "id": "7b661608-a819-443c-b681-95a403ed7de1",
   "metadata": {},
   "outputs": [],
   "source": [
    "# Count the number of products sold for each department\n",
    "department_sales = df_ords_prods_customers_merge_pt_one_with_exclusion.groupby('department')['product_id'].count()\n",
    "# Sort the departments by the number of products sold in ascending order\n",
    "department_sales_sorted = department_sales.sort_values(ascending = False)\n",
    "# Limit to the top 10 departments\n",
    "top_10_departments = department_sales_sorted.head(10)"
   ]
  },
  {
   "cell_type": "code",
   "execution_count": 44,
   "id": "f763a39e-7217-44e9-b994-247388aa8153",
   "metadata": {},
   "outputs": [
    {
     "data": {
      "text/plain": [
       "department\n",
       "produce            9079276\n",
       "dairy eggs         5191828\n",
       "snacks             2766406\n",
       "beverags           2571934\n",
       "frozen             2123342\n",
       "pantry             1782903\n",
       "bakery             1125026\n",
       "canned goods       1012074\n",
       "deli               1003834\n",
       "dry goods pasta     822136\n",
       "Name: product_id, dtype: int64"
      ]
     },
     "execution_count": 44,
     "metadata": {},
     "output_type": "execute_result"
    }
   ],
   "source": [
    "top_10_departments"
   ]
  },
  {
   "cell_type": "code",
   "execution_count": 45,
   "id": "32f569f3-c84c-4ef7-b3ec-6e7e4ad7acf9",
   "metadata": {},
   "outputs": [],
   "source": [
    "# Convert to df\n",
    "top_10_departments = top_10_departments.to_frame().reset_index()"
   ]
  },
  {
   "cell_type": "code",
   "execution_count": 46,
   "id": "3d501a5a-db24-4f62-90b6-4cb3955d50d1",
   "metadata": {},
   "outputs": [
    {
     "data": {
      "text/html": [
       "<div>\n",
       "<style scoped>\n",
       "    .dataframe tbody tr th:only-of-type {\n",
       "        vertical-align: middle;\n",
       "    }\n",
       "\n",
       "    .dataframe tbody tr th {\n",
       "        vertical-align: top;\n",
       "    }\n",
       "\n",
       "    .dataframe thead th {\n",
       "        text-align: right;\n",
       "    }\n",
       "</style>\n",
       "<table border=\"1\" class=\"dataframe\">\n",
       "  <thead>\n",
       "    <tr style=\"text-align: right;\">\n",
       "      <th></th>\n",
       "      <th>department</th>\n",
       "      <th>product_id</th>\n",
       "    </tr>\n",
       "  </thead>\n",
       "  <tbody>\n",
       "    <tr>\n",
       "      <th>0</th>\n",
       "      <td>produce</td>\n",
       "      <td>9079276</td>\n",
       "    </tr>\n",
       "    <tr>\n",
       "      <th>1</th>\n",
       "      <td>dairy eggs</td>\n",
       "      <td>5191828</td>\n",
       "    </tr>\n",
       "    <tr>\n",
       "      <th>2</th>\n",
       "      <td>snacks</td>\n",
       "      <td>2766406</td>\n",
       "    </tr>\n",
       "    <tr>\n",
       "      <th>3</th>\n",
       "      <td>beverags</td>\n",
       "      <td>2571934</td>\n",
       "    </tr>\n",
       "    <tr>\n",
       "      <th>4</th>\n",
       "      <td>frozen</td>\n",
       "      <td>2123342</td>\n",
       "    </tr>\n",
       "    <tr>\n",
       "      <th>5</th>\n",
       "      <td>pantry</td>\n",
       "      <td>1782903</td>\n",
       "    </tr>\n",
       "    <tr>\n",
       "      <th>6</th>\n",
       "      <td>bakery</td>\n",
       "      <td>1125026</td>\n",
       "    </tr>\n",
       "    <tr>\n",
       "      <th>7</th>\n",
       "      <td>canned goods</td>\n",
       "      <td>1012074</td>\n",
       "    </tr>\n",
       "    <tr>\n",
       "      <th>8</th>\n",
       "      <td>deli</td>\n",
       "      <td>1003834</td>\n",
       "    </tr>\n",
       "    <tr>\n",
       "      <th>9</th>\n",
       "      <td>dry goods pasta</td>\n",
       "      <td>822136</td>\n",
       "    </tr>\n",
       "  </tbody>\n",
       "</table>\n",
       "</div>"
      ],
      "text/plain": [
       "        department  product_id\n",
       "0          produce     9079276\n",
       "1       dairy eggs     5191828\n",
       "2           snacks     2766406\n",
       "3         beverags     2571934\n",
       "4           frozen     2123342\n",
       "5           pantry     1782903\n",
       "6           bakery     1125026\n",
       "7     canned goods     1012074\n",
       "8             deli     1003834\n",
       "9  dry goods pasta      822136"
      ]
     },
     "execution_count": 46,
     "metadata": {},
     "output_type": "execute_result"
    }
   ],
   "source": [
    "top_10_departments"
   ]
  },
  {
   "cell_type": "code",
   "execution_count": 47,
   "id": "c9848db9-e81d-4d90-8e75-c8d5ada250ea",
   "metadata": {},
   "outputs": [],
   "source": [
    "top_10_departments.rename(columns = {'product_id' : 'number_of_products_sold'}, inplace = True)"
   ]
  },
  {
   "cell_type": "code",
   "execution_count": 48,
   "id": "0cc94d9d-8677-4199-99ca-8efa3a46a1d9",
   "metadata": {
    "scrolled": true
   },
   "outputs": [
    {
     "data": {
      "text/html": [
       "<div>\n",
       "<style scoped>\n",
       "    .dataframe tbody tr th:only-of-type {\n",
       "        vertical-align: middle;\n",
       "    }\n",
       "\n",
       "    .dataframe tbody tr th {\n",
       "        vertical-align: top;\n",
       "    }\n",
       "\n",
       "    .dataframe thead th {\n",
       "        text-align: right;\n",
       "    }\n",
       "</style>\n",
       "<table border=\"1\" class=\"dataframe\">\n",
       "  <thead>\n",
       "    <tr style=\"text-align: right;\">\n",
       "      <th></th>\n",
       "      <th>department</th>\n",
       "      <th>number_of_products_sold</th>\n",
       "    </tr>\n",
       "  </thead>\n",
       "  <tbody>\n",
       "    <tr>\n",
       "      <th>0</th>\n",
       "      <td>produce</td>\n",
       "      <td>9079276</td>\n",
       "    </tr>\n",
       "    <tr>\n",
       "      <th>1</th>\n",
       "      <td>dairy eggs</td>\n",
       "      <td>5191828</td>\n",
       "    </tr>\n",
       "    <tr>\n",
       "      <th>2</th>\n",
       "      <td>snacks</td>\n",
       "      <td>2766406</td>\n",
       "    </tr>\n",
       "    <tr>\n",
       "      <th>3</th>\n",
       "      <td>beverags</td>\n",
       "      <td>2571934</td>\n",
       "    </tr>\n",
       "    <tr>\n",
       "      <th>4</th>\n",
       "      <td>frozen</td>\n",
       "      <td>2123342</td>\n",
       "    </tr>\n",
       "    <tr>\n",
       "      <th>5</th>\n",
       "      <td>pantry</td>\n",
       "      <td>1782903</td>\n",
       "    </tr>\n",
       "    <tr>\n",
       "      <th>6</th>\n",
       "      <td>bakery</td>\n",
       "      <td>1125026</td>\n",
       "    </tr>\n",
       "    <tr>\n",
       "      <th>7</th>\n",
       "      <td>canned goods</td>\n",
       "      <td>1012074</td>\n",
       "    </tr>\n",
       "    <tr>\n",
       "      <th>8</th>\n",
       "      <td>deli</td>\n",
       "      <td>1003834</td>\n",
       "    </tr>\n",
       "    <tr>\n",
       "      <th>9</th>\n",
       "      <td>dry goods pasta</td>\n",
       "      <td>822136</td>\n",
       "    </tr>\n",
       "  </tbody>\n",
       "</table>\n",
       "</div>"
      ],
      "text/plain": [
       "        department  number_of_products_sold\n",
       "0          produce                  9079276\n",
       "1       dairy eggs                  5191828\n",
       "2           snacks                  2766406\n",
       "3         beverags                  2571934\n",
       "4           frozen                  2123342\n",
       "5           pantry                  1782903\n",
       "6           bakery                  1125026\n",
       "7     canned goods                  1012074\n",
       "8             deli                  1003834\n",
       "9  dry goods pasta                   822136"
      ]
     },
     "execution_count": 48,
     "metadata": {},
     "output_type": "execute_result"
    }
   ],
   "source": [
    "top_10_departments"
   ]
  },
  {
   "cell_type": "code",
   "execution_count": 49,
   "id": "7a74875f-73ec-4f7f-a38c-64e41ff32055",
   "metadata": {},
   "outputs": [
    {
     "data": {
      "image/png": "[encoded data removed]",
      "text/plain": [
       "<Figure size 1000x600 with 1 Axes>"
      ]
     },
     "metadata": {},
     "output_type": "display_data"
    }
   ],
   "source": [
    "# Create horizontal bar chart showing the top 10 departments by number of products sold\n",
    "plt.figure(figsize=(10, 6))\n",
    "plt.title('Top 10 Departments by Number of Products Sold')\n",
    "# Set x-ticks and add vertical grid lines\n",
    "x_ticks = np.arange(0, 10000000, 2000000)\n",
    "plt.xticks(x_ticks)\n",
    "plt.grid(axis='x', linestyle='--', linewidth=0.5, color='grey', zorder=0)\n",
    "# Define a function to format x-axis labels\n",
    "def value_formatter(x, pos):\n",
    "    return f'{x:,.0f}'\n",
    "plt.xlabel('Number of Products Sold')\n",
    "plt.gca().xaxis.set_major_formatter(FuncFormatter(value_formatter))\n",
    "plt.ylabel(' ')\n",
    "plt.gca().invert_yaxis()  # Invert y-axis to have the department with the highest sales on top\n",
    "# Plot chart\n",
    "colors = plt.get_cmap('tab10')  # 'Set1' is a color map available in matplotlib\n",
    "plt.barh(top_10_departments['department'], top_10_departments['number_of_products_sold'],color=colors(range(10)), zorder=3)\n",
    "top_departments = plt.gcf()"
   ]
  },
  {
   "cell_type": "markdown",
   "id": "2a1e0699-b93e-4243-90f3-789135a50431",
   "metadata": {},
   "source": [
    " 7. Export charts"
   ]
  },
  {
   "cell_type": "code",
   "execution_count": 51,
   "id": "60018be0-4f92-4238-a10d-17a15804d09b",
   "metadata": {},
   "outputs": [],
   "source": [
    "path = \"../04 Analysis/Visualizations\"\n",
    "top_departments.savefig(os.path.join(path,'top_departments.png'), dpi=300, bbox_inches='tight')\n",
    "dependents_by_region.savefig(os.path.join(path,'dependents_by_region.png'), dpi=300, bbox_inches='tight')\n",
    "income_group_by_region.savefig(os.path.join(path,'income_group_by_region.png'), dpi=300, bbox_inches='tight')\n",
    "age_groups_by_region.savefig(os.path.join(path, 'age_groups_by_region.png'), dpi=300, bbox_inches='tight')\n",
    "customer_profile_region.savefig(os.path.join(path,'customer_profile_region.png'), dpi=300, bbox_inches='tight')"
   ]
  },
  {
   "cell_type": "markdown",
   "id": "e87a3281-2e9f-4375-b4b5-0bcd24e97bf0",
   "metadata": {},
   "source": [
    "8. Export data"
   ]
  },
  {
   "cell_type": "code",
   "execution_count": 53,
   "id": "6434ee80-5a59-4a95-b64a-4d8e5b87334a",
   "metadata": {},
   "outputs": [],
   "source": [
    "# Export data\n",
    "path = \"../02 Data/Prepared Data\"\n",
    "df_ords_prods_customers_merge_pt_one_with_exclusion.to_pickle(os.path.join(path, 'df_ords_prods_customers_merge_pt_one_with_exclusion.pkl'))"
   ]
  },
  {
   "cell_type": "code",
   "execution_count": null,
   "id": "7a24fdbe-9774-49b3-b2cf-2a96d6d83b77",
   "metadata": {},
   "outputs": [],
   "source": []
  }
 ],
 "metadata": {
  "kernelspec": {
   "display_name": "Python 3 (ipykernel)",
   "language": "python",
   "name": "python3"
  },
  "language_info": {
   "codemirror_mode": {
    "name": "ipython",
    "version": 3
   },
   "file_extension": ".py",
   "mimetype": "text/x-python",
   "name": "python",
   "nbconvert_exporter": "python",
   "pygments_lexer": "ipython3",
   "version": "3.12.4"
  }
 },
 "nbformat": 4,
 "nbformat_minor": 5
}
