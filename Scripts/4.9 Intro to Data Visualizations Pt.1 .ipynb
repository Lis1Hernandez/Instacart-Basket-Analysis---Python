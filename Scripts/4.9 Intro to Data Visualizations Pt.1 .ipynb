{
 "cells": [
  {
   "cell_type": "markdown",
   "id": "a224b8c9-de2f-400b-8d38-87e867ab26f4",
   "metadata": {},
   "source": [
    "4.9 - Task Pt. 1 "
   ]
  },
  {
   "cell_type": "markdown",
   "id": "2fe8f258-54be-4001-a347-0940ec426e98",
   "metadata": {
    "scrolled": true
   },
   "source": [
    "This script Includes"
   ]
  },
  {
   "cell_type": "markdown",
   "id": "872c6ed7-4428-4254-84d9-e9283bf80f12",
   "metadata": {},
   "source": [
    "3. Import your analysis libraries, as well as your new customer data set as a dataframe"
   ]
  },
  {
   "cell_type": "markdown",
   "id": "56b1bb29-18f6-4b24-ae46-3ecff94bddca",
   "metadata": {},
   "source": [
    "4. Wrangle the data so that it follows consistent logic"
   ]
  },
  {
   "cell_type": "markdown",
   "id": "c9865ea1-505c-4efb-8615-92ebc68b6488",
   "metadata": {},
   "source": [
    "5. Data Quality and consistency checks"
   ]
  },
  {
   "cell_type": "markdown",
   "id": "b3f69bc4-065e-4a0b-b7ba-2e98c054b4e0",
   "metadata": {},
   "source": [
    "6. combine customer data with rest of instacart data"
   ]
  },
  {
   "cell_type": "markdown",
   "id": "d943efd9-4a7e-4b5a-8273-dcab5c57d7d9",
   "metadata": {},
   "source": [
    "Step 3"
   ]
  },
  {
   "cell_type": "code",
   "execution_count": 8,
   "id": "82acd90a-a27e-4d44-9002-08ceeb754980",
   "metadata": {},
   "outputs": [],
   "source": [
    "# Import libraries\n",
    "\n",
    "import pandas as pd\n",
    "import numpy as np\n",
    "import os\n",
    "import matplotlib.pyplot as plt\n",
    "import seaborn as sns\n",
    "import scipy"
   ]
  },
  {
   "cell_type": "code",
   "execution_count": 9,
   "id": "08620d5e-626b-4def-a3b9-7a8f13a3c3d4",
   "metadata": {},
   "outputs": [],
   "source": [
    "# Import new customer DF\n",
    "df_customers=pd.read_csv(r\"C:\\Users\\Owner\\Downloads\\customers\\customers.csv\")"
   ]
  },
  {
   "cell_type": "code",
   "execution_count": 10,
   "id": "726406d0-a56a-4517-a7a9-fceb414bf965",
   "metadata": {},
   "outputs": [
    {
     "data": {
      "text/html": [
       "<div>\n",
       "<style scoped>\n",
       "    .dataframe tbody tr th:only-of-type {\n",
       "        vertical-align: middle;\n",
       "    }\n",
       "\n",
       "    .dataframe tbody tr th {\n",
       "        vertical-align: top;\n",
       "    }\n",
       "\n",
       "    .dataframe thead th {\n",
       "        text-align: right;\n",
       "    }\n",
       "</style>\n",
       "<table border=\"1\" class=\"dataframe\">\n",
       "  <thead>\n",
       "    <tr style=\"text-align: right;\">\n",
       "      <th></th>\n",
       "      <th>user_id</th>\n",
       "      <th>First Name</th>\n",
       "      <th>Surnam</th>\n",
       "      <th>Gender</th>\n",
       "      <th>STATE</th>\n",
       "      <th>Age</th>\n",
       "      <th>date_joined</th>\n",
       "      <th>n_dependants</th>\n",
       "      <th>fam_status</th>\n",
       "      <th>income</th>\n",
       "    </tr>\n",
       "  </thead>\n",
       "  <tbody>\n",
       "    <tr>\n",
       "      <th>0</th>\n",
       "      <td>26711</td>\n",
       "      <td>Deborah</td>\n",
       "      <td>Esquivel</td>\n",
       "      <td>Female</td>\n",
       "      <td>Missouri</td>\n",
       "      <td>48</td>\n",
       "      <td>1/1/2017</td>\n",
       "      <td>3</td>\n",
       "      <td>married</td>\n",
       "      <td>165665</td>\n",
       "    </tr>\n",
       "    <tr>\n",
       "      <th>1</th>\n",
       "      <td>33890</td>\n",
       "      <td>Patricia</td>\n",
       "      <td>Hart</td>\n",
       "      <td>Female</td>\n",
       "      <td>New Mexico</td>\n",
       "      <td>36</td>\n",
       "      <td>1/1/2017</td>\n",
       "      <td>0</td>\n",
       "      <td>single</td>\n",
       "      <td>59285</td>\n",
       "    </tr>\n",
       "    <tr>\n",
       "      <th>2</th>\n",
       "      <td>65803</td>\n",
       "      <td>Kenneth</td>\n",
       "      <td>Farley</td>\n",
       "      <td>Male</td>\n",
       "      <td>Idaho</td>\n",
       "      <td>35</td>\n",
       "      <td>1/1/2017</td>\n",
       "      <td>2</td>\n",
       "      <td>married</td>\n",
       "      <td>99568</td>\n",
       "    </tr>\n",
       "    <tr>\n",
       "      <th>3</th>\n",
       "      <td>125935</td>\n",
       "      <td>Michelle</td>\n",
       "      <td>Hicks</td>\n",
       "      <td>Female</td>\n",
       "      <td>Iowa</td>\n",
       "      <td>40</td>\n",
       "      <td>1/1/2017</td>\n",
       "      <td>0</td>\n",
       "      <td>single</td>\n",
       "      <td>42049</td>\n",
       "    </tr>\n",
       "    <tr>\n",
       "      <th>4</th>\n",
       "      <td>130797</td>\n",
       "      <td>Ann</td>\n",
       "      <td>Gilmore</td>\n",
       "      <td>Female</td>\n",
       "      <td>Maryland</td>\n",
       "      <td>26</td>\n",
       "      <td>1/1/2017</td>\n",
       "      <td>1</td>\n",
       "      <td>married</td>\n",
       "      <td>40374</td>\n",
       "    </tr>\n",
       "  </tbody>\n",
       "</table>\n",
       "</div>"
      ],
      "text/plain": [
       "   user_id First Name    Surnam  Gender       STATE  Age date_joined  \\\n",
       "0    26711    Deborah  Esquivel  Female    Missouri   48    1/1/2017   \n",
       "1    33890   Patricia      Hart  Female  New Mexico   36    1/1/2017   \n",
       "2    65803    Kenneth    Farley    Male       Idaho   35    1/1/2017   \n",
       "3   125935   Michelle     Hicks  Female        Iowa   40    1/1/2017   \n",
       "4   130797        Ann   Gilmore  Female    Maryland   26    1/1/2017   \n",
       "\n",
       "   n_dependants fam_status  income  \n",
       "0             3    married  165665  \n",
       "1             0     single   59285  \n",
       "2             2    married   99568  \n",
       "3             0     single   42049  \n",
       "4             1    married   40374  "
      ]
     },
     "execution_count": 10,
     "metadata": {},
     "output_type": "execute_result"
    }
   ],
   "source": [
    "# quick review \n",
    "df_customers.head()"
   ]
  },
  {
   "cell_type": "code",
   "execution_count": 11,
   "id": "4f4c1111-04b8-464b-bb0d-36f03ddbea87",
   "metadata": {},
   "outputs": [
    {
     "data": {
      "text/plain": [
       "(206209, 10)"
      ]
     },
     "execution_count": 11,
     "metadata": {},
     "output_type": "execute_result"
    }
   ],
   "source": [
    "# viewing the df\n",
    "df_customers.shape"
   ]
  },
  {
   "cell_type": "code",
   "execution_count": 12,
   "id": "06f7aa69-72be-4246-aa10-b2e1f8544b21",
   "metadata": {},
   "outputs": [
    {
     "data": {
      "text/html": [
       "<div>\n",
       "<style scoped>\n",
       "    .dataframe tbody tr th:only-of-type {\n",
       "        vertical-align: middle;\n",
       "    }\n",
       "\n",
       "    .dataframe tbody tr th {\n",
       "        vertical-align: top;\n",
       "    }\n",
       "\n",
       "    .dataframe thead th {\n",
       "        text-align: right;\n",
       "    }\n",
       "</style>\n",
       "<table border=\"1\" class=\"dataframe\">\n",
       "  <thead>\n",
       "    <tr style=\"text-align: right;\">\n",
       "      <th></th>\n",
       "      <th>user_id</th>\n",
       "      <th>Age</th>\n",
       "      <th>n_dependants</th>\n",
       "      <th>income</th>\n",
       "    </tr>\n",
       "  </thead>\n",
       "  <tbody>\n",
       "    <tr>\n",
       "      <th>count</th>\n",
       "      <td>206209.000000</td>\n",
       "      <td>206209.000000</td>\n",
       "      <td>206209.000000</td>\n",
       "      <td>206209.000000</td>\n",
       "    </tr>\n",
       "    <tr>\n",
       "      <th>mean</th>\n",
       "      <td>103105.000000</td>\n",
       "      <td>49.501646</td>\n",
       "      <td>1.499823</td>\n",
       "      <td>94632.852548</td>\n",
       "    </tr>\n",
       "    <tr>\n",
       "      <th>std</th>\n",
       "      <td>59527.555167</td>\n",
       "      <td>18.480962</td>\n",
       "      <td>1.118433</td>\n",
       "      <td>42473.786988</td>\n",
       "    </tr>\n",
       "    <tr>\n",
       "      <th>min</th>\n",
       "      <td>1.000000</td>\n",
       "      <td>18.000000</td>\n",
       "      <td>0.000000</td>\n",
       "      <td>25903.000000</td>\n",
       "    </tr>\n",
       "    <tr>\n",
       "      <th>25%</th>\n",
       "      <td>51553.000000</td>\n",
       "      <td>33.000000</td>\n",
       "      <td>0.000000</td>\n",
       "      <td>59874.000000</td>\n",
       "    </tr>\n",
       "    <tr>\n",
       "      <th>50%</th>\n",
       "      <td>103105.000000</td>\n",
       "      <td>49.000000</td>\n",
       "      <td>1.000000</td>\n",
       "      <td>93547.000000</td>\n",
       "    </tr>\n",
       "    <tr>\n",
       "      <th>75%</th>\n",
       "      <td>154657.000000</td>\n",
       "      <td>66.000000</td>\n",
       "      <td>3.000000</td>\n",
       "      <td>124244.000000</td>\n",
       "    </tr>\n",
       "    <tr>\n",
       "      <th>max</th>\n",
       "      <td>206209.000000</td>\n",
       "      <td>81.000000</td>\n",
       "      <td>3.000000</td>\n",
       "      <td>593901.000000</td>\n",
       "    </tr>\n",
       "  </tbody>\n",
       "</table>\n",
       "</div>"
      ],
      "text/plain": [
       "             user_id            Age   n_dependants         income\n",
       "count  206209.000000  206209.000000  206209.000000  206209.000000\n",
       "mean   103105.000000      49.501646       1.499823   94632.852548\n",
       "std     59527.555167      18.480962       1.118433   42473.786988\n",
       "min         1.000000      18.000000       0.000000   25903.000000\n",
       "25%     51553.000000      33.000000       0.000000   59874.000000\n",
       "50%    103105.000000      49.000000       1.000000   93547.000000\n",
       "75%    154657.000000      66.000000       3.000000  124244.000000\n",
       "max    206209.000000      81.000000       3.000000  593901.000000"
      ]
     },
     "execution_count": 12,
     "metadata": {},
     "output_type": "execute_result"
    }
   ],
   "source": [
    "# viewing the df\n",
    "df_customers.describe()"
   ]
  },
  {
   "cell_type": "markdown",
   "id": "f3d500c0-034a-4f0d-983e-3a3b0202604f",
   "metadata": {},
   "source": [
    "Step 4 "
   ]
  },
  {
   "cell_type": "markdown",
   "id": "ee5e77e0-8977-4959-8931-f226d41f095d",
   "metadata": {},
   "source": [
    "renaming the variables for consistency"
   ]
  },
  {
   "cell_type": "code",
   "execution_count": 15,
   "id": "239c3174-e252-4b57-98ca-7d5949ad6ac6",
   "metadata": {},
   "outputs": [],
   "source": [
    "# Rename First Name as first_name\n",
    "df_customers.rename(columns = {'First Name' : 'first_name'}, inplace = True)"
   ]
  },
  {
   "cell_type": "code",
   "execution_count": 16,
   "id": "6a38014d-a215-4e35-92ef-ebff12fd8fa1",
   "metadata": {},
   "outputs": [],
   "source": [
    "# Rename Surnam as last_name\n",
    "df_customers.rename(columns = {'Surnam' : 'last_name'}, inplace = True)"
   ]
  },
  {
   "cell_type": "code",
   "execution_count": 17,
   "id": "f3f4c4b1-b58b-49da-97d4-a981e9deabdd",
   "metadata": {},
   "outputs": [],
   "source": [
    "#Rename Gender as gender\n",
    "df_customers.rename(columns = {'Gender' : 'gender'}, inplace = True)"
   ]
  },
  {
   "cell_type": "code",
   "execution_count": 18,
   "id": "96402f5b-3840-48da-b26c-50d6b318397c",
   "metadata": {},
   "outputs": [],
   "source": [
    "# Rename STATE as state\n",
    "df_customers.rename(columns = {'STATE' : 'state'}, inplace = True)"
   ]
  },
  {
   "cell_type": "code",
   "execution_count": 19,
   "id": "40fec274-b1ff-483a-8d86-07ce4de2ffcb",
   "metadata": {},
   "outputs": [],
   "source": [
    "#Rename Age as age\n",
    "df_customers.rename(columns = {'Age' : 'age'}, inplace = True)"
   ]
  },
  {
   "cell_type": "code",
   "execution_count": 20,
   "id": "d1959497-e0e5-4620-8f80-94a2cd4b1000",
   "metadata": {},
   "outputs": [],
   "source": [
    "#Rename fam_status as marital_status\n",
    "df_customers.rename(columns = {'fam_status' : 'marital_status'}, inplace = True)"
   ]
  },
  {
   "cell_type": "code",
   "execution_count": 21,
   "id": "c5cf11db-614c-4029-a2b5-a0c39c58dac4",
   "metadata": {},
   "outputs": [
    {
     "data": {
      "text/plain": [
       "Index(['user_id', 'first_name', 'last_name', 'gender', 'state', 'age',\n",
       "       'date_joined', 'n_dependants', 'marital_status', 'income'],\n",
       "      dtype='object')"
      ]
     },
     "execution_count": 21,
     "metadata": {},
     "output_type": "execute_result"
    }
   ],
   "source": [
    "# checking the results - update: all 6 successfully renamed\n",
    "df_customers.columns"
   ]
  },
  {
   "cell_type": "markdown",
   "id": "aae55c0d-e4db-47fd-964e-03f733709233",
   "metadata": {},
   "source": [
    "Step 5 "
   ]
  },
  {
   "cell_type": "code",
   "execution_count": 23,
   "id": "61c25213-ffc8-426d-b289-cd1c23dada58",
   "metadata": {},
   "outputs": [
    {
     "data": {
      "text/plain": [
       "user_id               0\n",
       "first_name        11259\n",
       "last_name             0\n",
       "gender                0\n",
       "state                 0\n",
       "age                   0\n",
       "date_joined           0\n",
       "n_dependants          0\n",
       "marital_status        0\n",
       "income                0\n",
       "dtype: int64"
      ]
     },
     "execution_count": 23,
     "metadata": {},
     "output_type": "execute_result"
    }
   ],
   "source": [
    "# Checking for missing values in entire DF\n",
    "df_customers.isnull().sum()"
   ]
  },
  {
   "cell_type": "markdown",
   "id": "81f7ca28-8c1a-4176-93e1-ba6d5975444d",
   "metadata": {},
   "source": [
    "observation: 11259 rows with missing first names"
   ]
  },
  {
   "cell_type": "code",
   "execution_count": 25,
   "id": "395fae9c-bb3e-4640-bc8e-7c266e815210",
   "metadata": {},
   "outputs": [],
   "source": [
    "# Checking for duplicates in entire DF\n",
    "df_duplicates = df_customers[df_customers.duplicated()]"
   ]
  },
  {
   "cell_type": "code",
   "execution_count": 26,
   "id": "53d9e4af-0382-42f9-9e50-9154cb300d35",
   "metadata": {},
   "outputs": [
    {
     "data": {
      "text/html": [
       "<div>\n",
       "<style scoped>\n",
       "    .dataframe tbody tr th:only-of-type {\n",
       "        vertical-align: middle;\n",
       "    }\n",
       "\n",
       "    .dataframe tbody tr th {\n",
       "        vertical-align: top;\n",
       "    }\n",
       "\n",
       "    .dataframe thead th {\n",
       "        text-align: right;\n",
       "    }\n",
       "</style>\n",
       "<table border=\"1\" class=\"dataframe\">\n",
       "  <thead>\n",
       "    <tr style=\"text-align: right;\">\n",
       "      <th></th>\n",
       "      <th>user_id</th>\n",
       "      <th>first_name</th>\n",
       "      <th>last_name</th>\n",
       "      <th>gender</th>\n",
       "      <th>state</th>\n",
       "      <th>age</th>\n",
       "      <th>date_joined</th>\n",
       "      <th>n_dependants</th>\n",
       "      <th>marital_status</th>\n",
       "      <th>income</th>\n",
       "    </tr>\n",
       "  </thead>\n",
       "  <tbody>\n",
       "  </tbody>\n",
       "</table>\n",
       "</div>"
      ],
      "text/plain": [
       "Empty DataFrame\n",
       "Columns: [user_id, first_name, last_name, gender, state, age, date_joined, n_dependants, marital_status, income]\n",
       "Index: []"
      ]
     },
     "execution_count": 26,
     "metadata": {},
     "output_type": "execute_result"
    }
   ],
   "source": [
    "df_duplicates"
   ]
  },
  {
   "cell_type": "markdown",
   "id": "a7fb20dc-2601-4182-adfc-445ee45179cd",
   "metadata": {},
   "source": [
    "observation: no duplicates"
   ]
  },
  {
   "cell_type": "code",
   "execution_count": 28,
   "id": "46f0e6e4-571e-4e8b-8924-f69c5fcdd38d",
   "metadata": {},
   "outputs": [
    {
     "data": {
      "text/plain": [
       "user_id            int64\n",
       "first_name        object\n",
       "last_name         object\n",
       "gender            object\n",
       "state             object\n",
       "age                int64\n",
       "date_joined       object\n",
       "n_dependants       int64\n",
       "marital_status    object\n",
       "income             int64\n",
       "dtype: object"
      ]
     },
     "execution_count": 28,
     "metadata": {},
     "output_type": "execute_result"
    }
   ],
   "source": [
    "# Checking data types\n",
    "df_customers.dtypes"
   ]
  },
  {
   "cell_type": "code",
   "execution_count": 29,
   "id": "5e52baa2-5c05-46f7-9c10-c2457626531f",
   "metadata": {},
   "outputs": [
    {
     "name": "stdout",
     "output_type": "stream",
     "text": [
      "first_name\n"
     ]
    }
   ],
   "source": [
    "# finding mixed data type\n",
    "for col in df_customers.columns.tolist():\n",
    "    weird = (df_customers[[col]].map(type) != df_customers[[col]].iloc[0].apply(type)).any(axis = 1)\n",
    "    if len (df_customers[weird]) > 0:\n",
    "            print (col)"
   ]
  },
  {
   "cell_type": "code",
   "execution_count": 30,
   "id": "ea3305f2-7baf-43c6-aabc-58e8c038dca5",
   "metadata": {},
   "outputs": [],
   "source": [
    "# assigning string data type\n",
    "df_customers['first_name'] = df_customers['first_name'].astype('str')"
   ]
  },
  {
   "cell_type": "code",
   "execution_count": 31,
   "id": "ab4d0033-852a-47b1-b31d-c712118f0f69",
   "metadata": {},
   "outputs": [
    {
     "data": {
      "text/plain": [
       "user_id            int64\n",
       "first_name        object\n",
       "last_name         object\n",
       "gender            object\n",
       "state             object\n",
       "age                int64\n",
       "date_joined       object\n",
       "n_dependants       int64\n",
       "marital_status    object\n",
       "income             int64\n",
       "dtype: object"
      ]
     },
     "execution_count": 31,
     "metadata": {},
     "output_type": "execute_result"
    }
   ],
   "source": [
    "# checking for any changes\n",
    "df_customers.dtypes"
   ]
  },
  {
   "cell_type": "code",
   "execution_count": 32,
   "id": "ef9f1fe6-669f-4990-8aca-5802173620d6",
   "metadata": {},
   "outputs": [],
   "source": [
    "# checking for any changes\n",
    "for col in df_customers.columns.tolist():\n",
    "    weird = (df_customers[[col]].map(type) != df_customers[[col]].iloc[0].apply(type)).any(axis = 1)\n",
    "    if len (df_customers[weird]) > 0:\n",
    "            print (col)"
   ]
  },
  {
   "cell_type": "markdown",
   "id": "3ae0d117-7384-4274-8a5e-9d6cae5747e6",
   "metadata": {},
   "source": [
    "observation: the lack of result shows there is no mixed data type now"
   ]
  },
  {
   "cell_type": "markdown",
   "id": "062f976e-9111-443e-b5c1-854564d096f7",
   "metadata": {},
   "source": [
    "Step 6 "
   ]
  },
  {
   "cell_type": "code",
   "execution_count": 35,
   "id": "ed1451aa-da30-4e6d-bc69-36b70a59088b",
   "metadata": {},
   "outputs": [],
   "source": [
    "import pandas as pd\n",
    "df_ords_prods_merge=pd.read_pickle(r\"C:\\Users\\Owner\\Downloads\\orders_products_merged_grouped.pkl\")"
   ]
  },
  {
   "cell_type": "code",
   "execution_count": 36,
   "id": "1fbb54e9-9ccc-4005-817f-a7a099dc6359",
   "metadata": {},
   "outputs": [],
   "source": [
    "#Drop the _merge column from the previous exercise\n",
    "df_ords_prods_merge = df_ords_prods_merge.drop(columns=['_merge'])"
   ]
  },
  {
   "cell_type": "code",
   "execution_count": null,
   "id": "68fb82cb-f9b0-40dc-932e-e0b233cdd51c",
   "metadata": {},
   "outputs": [],
   "source": [
    "# Merge ords_prods_merge DF with customers DF - they both have a user_id column\n",
    "df_ords_prods_customers_merge = df_ords_prods_merge.merge(df_customers, on = 'user_id', indicator = True)"
   ]
  },
  {
   "cell_type": "code",
   "execution_count": null,
   "id": "f3ded24e-71e2-4aa3-be5d-d58b83c39841",
   "metadata": {},
   "outputs": [],
   "source": [
    "# Define the path\n",
    "import os\n",
    "path = os.path.join('..', '02 Data', 'Prepared Data')"
   ]
  },
  {
   "cell_type": "code",
   "execution_count": null,
   "id": "0a1991ff-8771-48d4-837a-e6e5ca916436",
   "metadata": {},
   "outputs": [],
   "source": [
    "df_ords_prods_customers_merge.to_pickle(os.path.join(path,'orders_products_customers_merged_grouped.pkl'))"
   ]
  },
  {
   "cell_type": "code",
   "execution_count": null,
   "id": "a991f760-6fab-422f-b969-90b6b422758e",
   "metadata": {},
   "outputs": [],
   "source": []
  }
 ],
 "metadata": {
  "kernelspec": {
   "display_name": "Python 3 (ipykernel)",
   "language": "python",
   "name": "python3"
  },
  "language_info": {
   "codemirror_mode": {
    "name": "ipython",
    "version": 3
   },
   "file_extension": ".py",
   "mimetype": "text/x-python",
   "name": "python",
   "nbconvert_exporter": "python",
   "pygments_lexer": "ipython3",
   "version": "3.12.4"
  }
 },
 "nbformat": 4,
 "nbformat_minor": 5
}
